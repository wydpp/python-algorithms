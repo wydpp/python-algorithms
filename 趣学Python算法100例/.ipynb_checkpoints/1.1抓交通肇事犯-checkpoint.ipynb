{
 "cells": [
  {
   "cell_type": "markdown",
   "id": "d4ca6851-3da7-4c18-ac9f-1e39c09a4849",
   "metadata": {},
   "source": [
    "## 1.问题描述\n",
    "一辆卡车违反交通规则，撞人后逃跑。现场有三人目击该事件，但都没有记住车号，只记下了车号的一些特征。\n",
    "\n",
    "甲说：牌照的前两位数字是相同的；\n",
    "\n",
    "乙说：牌照的后两位数字是相同的，但与前两位不同；\n",
    "\n",
    "丙说：4位的车号刚好是一个整数的平方。\n",
    "\n",
    "请根据以上线索求出车号。\n",
    "\n",
    "## 2.问题分析\n",
    "按照题目要求造出以恶前两位数相同、后两位数相同且相互间又不同的4位整数，然后判断该整数是否是另一个整数的平方。\n",
    "\n",
    "即求一个4位数$a_1a_2a_3a_4$,满足如下条件：\n",
    "\n",
    "\\begin{cases}\n",
    "a_1 = a_2 & 1\\leqslant a_1\\leqslant9, 0\\leqslant a_2\\leqslant9 \\\\\n",
    "a_3 = a_4 & a_3\\geqslant0, a_4\\leqslant9 \\\\\n",
    "a_1\\neq a_3 \\\\\n",
    "1000\\times a_1 + 100\\times a_2 + 10a_3 + a_4 = x^2 & x\\in\\mathbb{Z}\n",
    "\\end{cases}\n",
    "\n"
   ]
  },
  {
   "cell_type": "markdown",
   "id": "ca86b3a5-d5f8-4a2f-83b4-3a22bbea48e7",
   "metadata": {},
   "source": [
    "## 3.算法设计\n",
    "本题目是数值计算问题，求解不定方程。一般采用穷举循环，首先设计双层循环穷举出所有由前两位数和后两位数组成的4位数车牌，然后再最内层穷举出所有平方后值为4位数且小于车牌号的数，判断该数是否与车号相等，若相等，则找到车牌。"
   ]
  },
  {
   "cell_type": "markdown",
   "id": "3bfa4431-c3ed-4cb3-baa7-c3a8051bd01a",
   "metadata": {},
   "source": [
    "## 4. 代码实现"
   ]
  },
  {
   "cell_type": "code",
   "execution_count": 8,
   "id": "ade42417-c00f-4d30-b233-c325f6414946",
   "metadata": {},
   "outputs": [
    {
     "name": "stdout",
     "output_type": "stream",
     "text": [
      "车牌号找到了，是7744\n"
     ]
    }
   ],
   "source": [
    "# 代码实现\n",
    "# i表示前两位数，j表示后两位数, k代表车牌号\n",
    "find_flag = False\n",
    "for i in range(10):\n",
    "    if find_flag:\n",
    "        break;\n",
    "    for j in range(10):\n",
    "        if find_flag:\n",
    "            break;\n",
    "        # 判断前两位和后两位数字是否相同\n",
    "        if i != j:\n",
    "            # 组成4位车牌号\n",
    "            k = 1000*i + 100*i + 10*j + j\n",
    "            # 判断k是否是某个数的平方，是就找到车牌号\n",
    "            #一个数的平方小于9999，大于1000，所以范围再(31，100)中\n",
    "            for temp in range(31,100):\n",
    "                if temp * temp == k:\n",
    "                    find_flag = True\n",
    "                    print(f\"车牌号找到了，是{k}\")\n",
    "                    break"
   ]
  }
 ],
 "metadata": {
  "kernelspec": {
   "display_name": "Python (deepseek)",
   "language": "python",
   "name": "deepsek"
  },
  "language_info": {
   "codemirror_mode": {
    "name": "ipython",
    "version": 3
   },
   "file_extension": ".py",
   "mimetype": "text/x-python",
   "name": "python",
   "nbconvert_exporter": "python",
   "pygments_lexer": "ipython3",
   "version": "3.11.11"
  }
 },
 "nbformat": 4,
 "nbformat_minor": 5
}
