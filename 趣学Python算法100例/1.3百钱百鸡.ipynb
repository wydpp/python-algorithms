{
 "cells": [
  {
   "cell_type": "markdown",
   "id": "cdf9fddf-7ee0-4fdc-a439-aecaf6de863c",
   "metadata": {},
   "source": [
    "## 1.问题描述\n",
    "\n",
    "中国古代数学家张丘建在他的《算经》中提出了一个著名的“百钱百鸡问题”：一只公鸡值五钱，一只母鸡值三钱，三只小鸡值一钱，现在要用百钱买百鸡，请问公鸡、母鸡、小鸡各多少只？\n",
    "\n",
    "## 2.问题分析\n",
    "\n",
    "用百钱如果只买公鸡，最多可以买20只，但题目要求买100只，由此可知，所买公鸡的数量肯定在0~20之间。同理，母鸡的数量在0~33之间。\n",
    "\n",
    "在此不妨把公鸡、母鸡和小鸡的数量分别设为cock、hen、chicken，则 `cock+hen+chicken=100`,因此百钱买百鸡问题就转化为解不定方程组\n",
    "\n",
    "$$\n",
    "\\begin{cases}\n",
    "cock + hen + chicken=100 \\\\\n",
    "5\\times cock + 3\\times hen + \\frac{chicken}{3}=100 & \n",
    "\\end{cases}\n",
    "$$\n",
    "的问题了。\n",
    "\n",
    "## 3.算法设计\n",
    "\n",
    "对于不定方程组，我们可以利用穷举循环的方法来解决，也就是通过对未知数可变范围的穷举，验证方程在什么情况下成立，从而得到响应的解。\n",
    "\n",
    "因公鸡数量的取值范围是0~20，可以用循环语句`for cock in range(0,21)`实现。钱的数量是固定的，要买的鸡的数量收到公鸡和母鸡数量的限制，因此我们可以利用三层循环的嵌套来解决。\n",
    "\n",
    "第一层循环控制公鸡的数量，第二层控制母鸡的数量，最内层控制小鸡的数量。\n",
    "\n",
    "## 4.代码实现\n"
   ]
  },
  {
   "cell_type": "code",
   "execution_count": 5,
   "id": "6d4f6b3f-49b4-45e6-b133-5da61479c49f",
   "metadata": {},
   "outputs": [
    {
     "name": "stdout",
     "output_type": "stream",
     "text": [
      "购买方案:公鸡0只，母鸡25只，小鸡75只\n",
      "购买方案:公鸡4只，母鸡18只，小鸡78只\n",
      "购买方案:公鸡8只，母鸡11只，小鸡81只\n",
      "购买方案:公鸡12只，母鸡4只，小鸡84只\n"
     ]
    }
   ],
   "source": [
    "cock = 0\n",
    "while cock <= 20:\n",
    "    hen = 0\n",
    "    while hen <=33:\n",
    "        chicken = 0\n",
    "        while chicken <= 100:\n",
    "            if((5*cock + 3*hen + chicken/3) == 100) and ((cock + hen + chicken) == 100):\n",
    "                print(f\"购买方案:公鸡{cock}只，母鸡{hen}只，小鸡{chicken}只\")\n",
    "            chicken = chicken + 1\n",
    "        hen = hen + 1\n",
    "    cock += 1"
   ]
  },
  {
   "cell_type": "markdown",
   "id": "57ef743d-0b96-4998-ad0f-b3b5871a85bb",
   "metadata": {},
   "source": [
    "## 5.算法优化\n",
    "\n",
    "上面算法需要穷举的次数为21*34*101=114次，算法的效率太低。对于本题来说，公鸡的数量确定后，小鸡的数量就固定为 `100-cock-hen`，无须再进行穷举了，这个我们利用两重循环即可求解本。"
   ]
  },
  {
   "cell_type": "code",
   "execution_count": 6,
   "id": "951c1c6d-fb0d-401d-b327-ec51c4e3c67d",
   "metadata": {},
   "outputs": [
    {
     "name": "stdout",
     "output_type": "stream",
     "text": [
      "购买方案:公鸡0只，母鸡25只，小鸡75只\n",
      "购买方案:公鸡4只，母鸡18只，小鸡78只\n",
      "购买方案:公鸡8只，母鸡11只，小鸡81只\n",
      "购买方案:公鸡12只，母鸡4只，小鸡84只\n"
     ]
    }
   ],
   "source": [
    "cock = 0\n",
    "while cock <= 20:\n",
    "    hen = 0\n",
    "    while hen <= 33:\n",
    "        chicken = 100 - cock - hen\n",
    "        if((5*cock + 3*hen + chicken/3) == 100):\n",
    "                print(f\"购买方案:公鸡{cock}只，母鸡{hen}只，小鸡{chicken}只\")\n",
    "        hen += 1\n",
    "    cock += 1"
   ]
  }
 ],
 "metadata": {
  "kernelspec": {
   "display_name": "Python 3 (ipykernel)",
   "language": "python",
   "name": "python3"
  },
  "language_info": {
   "codemirror_mode": {
    "name": "ipython",
    "version": 3
   },
   "file_extension": ".py",
   "mimetype": "text/x-python",
   "name": "python",
   "nbconvert_exporter": "python",
   "pygments_lexer": "ipython3",
   "version": "3.12.9"
  }
 },
 "nbformat": 4,
 "nbformat_minor": 5
}
